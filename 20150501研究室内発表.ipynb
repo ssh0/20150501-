{
 "metadata": {
  "name": "",
  "signature": "sha256:45bb8c359f4e64d7ffa72292287590ef2506fe2a347b82a511e1039e6228e6ea"
 },
 "nbformat": 3,
 "nbformat_minor": 0,
 "worksheets": [
  {
   "cells": [
    {
     "cell_type": "markdown",
     "metadata": {
      "slideshow": {
       "slide_type": "slide"
      }
     },
     "source": [
      "<div align=\"center\"><h1>\u52b9\u7387\u3068\u30b7\u30b9\u30c6\u30e0\u30b5\u30a4\u30ba\u306e\u95a2\u4fc2\u306b\u5bfe\u3059\u308b</h1>\n",
      "    <h1>\u78ba\u7387\u30e2\u30c7\u30eb\u306b\u3088\u308b\u8003\u5bdf</h1></div>"
     ]
    },
    {
     "cell_type": "markdown",
     "metadata": {},
     "source": [
      "<div align=\"right\">\n",
      "\u65e9\u7a32\u7530\u5927\u5b66\u5148\u9032\u7406\u5de5\u5b66\u7814\u7a76\u79d1\n",
      "</div><div align=\"right\">\n",
      "\u7269\u7406\u5b66\u53ca\u5fdc\u7528\u7269\u7406\u5b66\u5c02\u653b\n",
      "</div><div align=\"right\">\n",
      "\u5c71\u5d0e\u7814\u7a76\u5ba4 M1 \u85e4\u672c\u5c07\u592a\u90ce\n",
      "</div>\n",
      "\n",
      "\n",
      "<div align=\"right\">\n",
      "2015\u5e745\u67081\u65e5\u30bb\u30df\u30ca\u30fc\u767a\u8868\n",
      "</div>"
     ]
    },
    {
     "cell_type": "markdown",
     "metadata": {
      "slideshow": {
       "slide_type": "slide"
      }
     },
     "source": [
      "## \u30a2\u30a6\u30c8\u30e9\u30a4\u30f3\n",
      "\n",
      "- \u5352\u696d\u8ad6\u6587\u3067\u6271\u3063\u305f\u5185\u5bb9\u306b\u95a2\u3057\u3066\n",
      "    - \u7814\u7a76\u80cc\u666f\n",
      "    - \u4f5c\u6210\u3057\u305f\u30e2\u30c7\u30eb\n",
      "    - \u89e3\u6790\u7d50\u679c\n",
      "    - \u307e\u3068\u3081"
     ]
    },
    {
     "cell_type": "markdown",
     "metadata": {},
     "source": [
      "## \u5352\u696d\u8ad6\u6587\u300e\u52b9\u7387\u3068\u30b7\u30b9\u30c6\u30e0\u30b5\u30a4\u30ba\u306e\u95a2\u4fc2\u306b\u5bfe\u3059\u308b\u78ba\u7387\u30e2\u30c7\u30eb\u306b\u3088\u308b\u8003\u5bdf\u300f"
     ]
    },
    {
     "cell_type": "markdown",
     "metadata": {
      "slideshow": {
       "slide_type": "slide"
      }
     },
     "source": [
      "### \u80cc\u666f\n",
      "\n",
      "- \u30a2\u30ed\u30e1\u30c8\u30ea\u30fc\u5247($E\\sim M^{3/4}$)\n",
      "\n",
      "- \u30db\u30e4\u306e\u5b9f\u9a13\u306b\u3088\u308b\u30b7\u30b9\u30c6\u30e0\u30b5\u30a4\u30ba\u3068\u4ee3\u8b1d\u7387\u306e\u95a2\u4fc2\n",
      "\n",
      "- \u4f1a\u8b70\u3084\u30b0\u30eb\u30fc\u30d7\u30ef\u30fc\u30af\u306e\u53c2\u52a0\u4eba\u6570\u3068\u52b9\u7387\u306e\u95a2\u4fc2\n",
      "\n",
      "\n",
      "- \u4e00\u822c\u5316  \n",
      "  \u7cfb\u306e\u30b7\u30b9\u30c6\u30e0\u30b5\u30a4\u30ba\u304c\u5927\u304d\u304f\u306a\u308b\u3068\u3001\u305d\u306e\u7279\u5fb4\u91cf\u304c\u30b7\u30b9\u30c6\u30e0\u30b5\u30a4\u30ba\u306b\u5bfe\u3057\u3066\u6bd4\u4f8b\u3057\u3066\u5927\u304d\u304f\u306f\u306a\u3089\u305a\u3001\u76f8\u4e92\u4f5c\u7528\u306a\u3069\u306b\u3088\u3063\u3066\u671f\u305d\u308c\u3088\u308a\u5c0f\u3055\u304f\u306a\u308b\u3088\u3046\u306a\u7cfb\n",
      "  \n",
      "### \u30a2\u30d7\u30ed\u30fc\u30c1\n",
      "\n",
      "- \u4f1a\u8b70\u3092\u30a4\u30e1\u30fc\u30b8\u3057\u306a\u304c\u3089\u3082\u3001\u3088\u308a\u4e00\u822c\u7684\u3001\u62bd\u8c61\u7684\u306a\u30e2\u30c7\u30eb\u3092\u4f5c\u6210\n",
      "- \u30e2\u30c7\u30eb\u306b\u95a2\u3057\u3066\u89e3\u6790\u7684\u306a\u8a08\u7b97\u3001\u6570\u5024\u30b7\u30df\u30e5\u30ec\u30fc\u30b7\u30e7\u30f3\n",
      "- \u7279\u5fb4\u91cf\u306e\u30b7\u30b9\u30c6\u30e0\u30b5\u30a4\u30ba\u306b\u5bfe\u3059\u308b\u5fdc\u7b54\u3092\u8abf\u3079\u308b"
     ]
    },
    {
     "cell_type": "markdown",
     "metadata": {
      "slideshow": {
       "slide_type": "slide"
      }
     },
     "source": [
      "### \u30e2\u30c7\u30eb\u306e\u4f5c\u6210\n",
      "\n",
      "#### \u8a2d\u5b9a\n",
      "\n",
      "- \u306f\u3058\u3081\u306b\u4e00\u3064\u306e\u8b70\u984c\u304c\u4e0e\u3048\u3089\u308c\u308b\n",
      "- \u30b7\u30b9\u30c6\u30e0\u30b5\u30a4\u30ba\u306f\u4f1a\u8b70\u306e\u53c2\u52a0\u8005\u306e\u4eba\u6570$N$\u3068\u3059\u308b\n",
      "- \u53c2\u52a0\u8005$X_{1}, \\cdots , X_{N}$\n",
      "- \u53c2\u52a0\u8005\u306f\u305d\u308c\u307e\u3067\u306b\u63d0\u51fa\u3055\u308c\u305f\u610f\u898b\u306b\u95a2\u9023\u3057\u305f\u81ea\u5206\u306e\u610f\u898b\u3092\u8ff0\u3079\u308b\n",
      "- \u767a\u8a00\u306e\u9577\u3055\u306f\u53c2\u52a0\u8005\u306e\u6570\u3084\u610f\u898b\u306b\u306f\u5f71\u97ff\u3055\u308c\u306a\u3044\u3068\u3059\u308b(\u96e2\u6563\u6642\u9593$k$\u306e\u5c0e\u5165)\n",
      "- \u3042\u308b\u6642\u523b$k$\u306b\u767a\u8a00\u3059\u308b\u306e\u306f\u4e00\u4eba\u306e\u307f\u3067\u3042\u308b\u3068\u3059\u308b\n",
      "- \u5168\u4f53\u3092\u7d71\u62ec\u3059\u308b\u5f79\u5272\u3092\u6301\u3063\u305f\u53c2\u52a0\u8005\u306f\u8003\u3048\u306a\u3044\n",
      "\n",
      "\n",
      "\n",
      "- \u767a\u8a00\u306f\u305d\u308c\u3092\u7279\u5fb4\u3065\u3051\u308b$a$($a<+\\infty$)\u500b\u306e\u30d1\u30e9\u30e1\u30fc\u30bf\u306e\u5024\u3067\u8868\u305b\u308b\n",
      "- \u5404\u96e2\u6563\u6642\u523b$k$\u306b\u306a\u3055\u308c\u305f\u767a\u8a00$x_{k}$\u306f$\\mathbb{R}^{a}$\u4e0a\u306e\u6709\u754c\u96c6\u5408$\\Omega\\subset \\mathbb{R}^{a}$\u306b\u304a\u3051\u308b1\u70b9\n",
      "- \u6642\u523b$k$\u30921\u9032\u3081\u308b\u3054\u3068\u306b1\u3064\u306e\u70b9$x_{k}$\u3092\u9078\u629e\u3057\u3001\u3053\u306e\u8a66\u884c\u3092\u6642\u523b$K$\u307e\u3067\u7d9a\u3051\u308b\n",
      "\n",
      "\u610f\u898b\u306e\u9078\u3070\u308c\u65b9\u3068\u9078\u3070\u308c\u305f\u610f\u898b\u306e\u4f4d\u7f6e\u95a2\u4fc2\u306b\u3088\u3063\u3066\u6c7a\u3081\u3089\u308c\u308b\u30cd\u30c3\u30c8\u30ef\u30fc\u30af\u306e\u6027\u8cea\u306b\u3088\u3063\u3066\u4f1a\u8b70\u306e\u52b9\u7387\u3092\u8003\u3048\u308b"
     ]
    },
    {
     "cell_type": "markdown",
     "metadata": {
      "slideshow": {
       "slide_type": "slide"
      }
     },
     "source": [
      "<div align=\"center\"><img src=img/image.jpg width=80% /> </div>"
     ]
    },
    {
     "cell_type": "markdown",
     "metadata": {
      "slideshow": {
       "slide_type": "slide"
      }
     },
     "source": [
      "#### \u7528\u8a9e\n",
      "\n",
      "- \u4f1a\u8b70 $\\rightarrow $\u8a66\u884c\n",
      "- \u610f\u898b $\\rightarrow $\u70b9($x$)\n",
      "- \u53c2\u52a0\u8005 $\\rightarrow $\u96c6\u5408$\\displaystyle X_{i} \\subset X \\left( = \\bigcup _{i=1}^{N}X_{i}\\right)$\n",
      "\n",
      "\u70b9\u306e\u9078\u3073\u65b9\u3068\u30cd\u30c3\u30c8\u30ef\u30fc\u30af\u306e\u69cb\u6210\u65b9\u6cd5\u3092\u3044\u304f\u3064\u304b\u4eee\u5b9a\u3057\u3066\u30e2\u30c7\u30eb\u3092\u4f5c\u6210\u3002  \n",
      "\u305d\u308c\u305e\u308c\u306b\u304a\u3051\u308b\u7279\u5fb4\u91cf\u3092\u8a08\u7b97\u3057\u3001\u30b7\u30b9\u30c6\u30e0\u30b5\u30a4\u30ba$N$\u3068\u306e\u95a2\u4fc2\u3092\u8003\u3048\u308b\u306e\u306b\u3075\u3055\u308f\u3057\u3044\u306f\u30e2\u30c7\u30eb\u306f\u3069\u308c\u304b\u3092\u8003\u5bdf\u3059\u308b"
     ]
    },
    {
     "cell_type": "markdown",
     "metadata": {},
     "source": [
      "## \u89e3\u6790"
     ]
    },
    {
     "cell_type": "markdown",
     "metadata": {
      "slideshow": {
       "slide_type": "slide"
      }
     },
     "source": [
      "### 1. $X_{i}$\u3092\u9078\u3076\u78ba\u7387\u304c\u7b49\u3057\u304f\u3001\u70b9$x$\u304c$[0,1]$\u304b\u3089\u4e00\u69d8\u306b\u9078\u3070\u308c\u308b\u5834\u5408\n",
      "\n",
      "\n",
      "<div align=\"center\"><img src=img/line.png width=70% /></div>\n",
      "\n",
      "- \u70b9\u306e\u9078\u629e\u898f\u5247:\n",
      "    - $[0,1]$\u306e\u7bc4\u56f2\u304b\u3089\u4e00\u69d8\u306b\u9078\u3070\u308c\u308b\n",
      "\n",
      "- \u30a8\u30c3\u30b8\u306e\u751f\u6210\u898f\u5247:\n",
      "    - \u9078\u629e\u3055\u308c\u305f\u70b9\u304c\u95be\u5024$r$\u306b\u3088\u308a\u5b9a\u307e\u308b\u9818\u57df\u5185\u306b\u3042\u308b\u3068\u304d\u3001\u305d\u306e\u30ce\u30fc\u30c9\u9593\u306b\u30a8\u30c3\u30b8\u3092\u5f35\u308b\n"
     ]
    },
    {
     "cell_type": "markdown",
     "metadata": {
      "slideshow": {
       "slide_type": "slide"
      }
     },
     "source": [
      "\u6642\u523b$k+1$\u306b\u70b9$x_{k+1}$\u304c\u9078\u3070\u308c\u305f\u6642\u3001$r$\u306b\u3088\u3063\u3066\u5b9a\u307e\u308b\u9818\u57df\n",
      "\n",
      "$$[\\max(0,x-r), \\min(x+r,1)]$$ \n",
      "\n",
      "\u306b\u5165\u308b\u70b9\u306e\u500b\u6570$Y$\u306f\u3001\u305d\u308c\u307e\u3067\u306b\u9078\u629e\u3055\u308c\u305f\u70b9\u306e\u6570\u304c$k$\u500b\u3042\u308b\u3053\u3068\u3068\u3001$x_{k+1}$\u306e\u5927\u304d\u3055\u306b\u3088\u3063\u3066\u305d\u306e\u4e2d\u306b\u70b9\u304c\u5b58\u5728\u3059\u308b\u78ba\u7387\u304c\u7570\u306a\u308b\u3053\u3068\u3092\u8003\u616e\u306b\u5165\u308c\u3066\u8a08\u7b97\u3059\u308b\u3068\u3001\u78ba\u7387\u5909\u6570$Y$\u306f\u4ee5\u4e0b\u306e\u5206\u5e03\u306b\u5f93\u3046\u3053\u3068\u304c\u5206\u304b\u308b\u3002\n",
      "\n",
      "$$ P[Y=y] = \\ _{k}C_{y}p(r)^{y}(1-p(r))^{k-y}$$\n",
      "\n",
      "\u3053\u308c\u306f\u4e8c\u9805\u5206\u5e03$B(k ,p)$\u3067\u3001\n",
      "$$p(r) = E(p(x,r)) = -r^{2} + 2r$$\n",
      "\n",
      "\u306f\u3001\u70b9$x$\u306b\u5bfe\u3059\u308b\u305d\u306e\u4e2d\u306b1\u3064\u306e\u70b9\u304c\u5b58\u5728\u3059\u308b\u78ba\u7387\u306e\u671f\u5f85\u5024\u3002\n",
      "\n",
      "\u307e\u305f\u3001\u4e8c\u9805\u5206\u5e03\u306e\u671f\u5f85\u5024\u304c$E(Y) = kp$\u3067\u8868\u305b\u308b\u3053\u3068\u304b\u3089\u3001$k+1$\u756a\u76ee\u306b\u9078\u3070\u308c\u305f\u70b9\u306e\u307e\u308f\u308a\u306e\u9818\u57df\u306b\u5165\u308b\u3001\u3059\u306a\u308f\u3061\u6642\u523b$k+1$\u306b\u7d50\u3070\u308c\u308b\u30a8\u30c3\u30b8\u306e\u6570\u306e\u671f\u5f85\u5024$l$\u306f\n",
      "$$l(r,k)=p(r)k = (-r^{2}+2r)k$$\n",
      "\n",
      "Remark: \u30b7\u30b9\u30c6\u30e0\u30b5\u30a4\u30ba$N$\u3068\u306e\u95a2\u9023\u306f\u7121\u3044"
     ]
    },
    {
     "cell_type": "markdown",
     "metadata": {
      "slideshow": {
       "slide_type": "slide"
      }
     },
     "source": [
      "### 2. $X_{i}$\u3092\u9078\u3076\u78ba\u7387\u304c\u7570\u306a\u308a\u3001$x$\u306f$[0,1]$\u304b\u3089\u4e00\u69d8\u306b\u9078\u3076\u5834\u5408\n",
      "\n",
      "- $x$\u306e\u9078\u3073\u65b9\u306f\u540c\u3058  \n",
      "$\\Rightarrow$\u9078\u3070\u308c\u305f\u70b9$x$\u306b\u3088\u308b\u30cd\u30c3\u30c8\u30ef\u30fc\u30af\u306f\u540c\u3058\n",
      "\n",
      "-  \u6642\u523b$k$\u307e\u3067\u306e\u6b21\u6570\u306e\u7dcf\u548c$L$\n",
      "\n",
      "<div align=\"center\">\n",
      "<img src=img/download2_4.png width=60% />\n",
      "</div>\n",
      "<div align=\"center\">\u56f3. \u6642\u523b$k$\u307e\u3067\u306e\u6b21\u6570\u306e\u7dcf\u548c$L$</div>\n",
      "\n",
      "- \u7dd1\u306e\u66f2\u7dda: \u7406\u8ad6\u5f0f(1\u3088\u308a)  \n",
      "$$L = \\frac{1}{2}(-r^{2} + 2r)k^{2}$$  \n",
      "$\\Rightarrow$\u4e00\u81f4\n"
     ]
    },
    {
     "cell_type": "markdown",
     "metadata": {
      "slideshow": {
       "slide_type": "slide"
      }
     },
     "source": [
      "### 2. \u904e\u53bb\u306e\u70b9\u3092\u53c2\u7167\u3057\u3066\u6b21\u306e\u70b9$x$\u304c\u9078\u3070\u308c\u308b\n",
      "\n",
      "1. $X_{i}$\u3092\u9078\u3073\u3001\u6b21\u306b\u70b9($x\\in [0, 1]$)\u3092\u4e00\u69d8\u306b\u9078\u3076  \n",
      "2. <span style=\"background-color:#ef9a9a;color:black\">**\u904e\u53bb\u306e\u70b9\u3092\u53c2\u7167\u3057\u3066\u6b21\u306e\u70b9$x$\u3092\u9078\u3076**</span>\n",
      "\n",
      "**\u8a2d\u5b9a**:\n",
      "\n",
      "- $x$\u306f$\\Omega = [0, 1] \\times [0,1]$\u306b\u4e00\u69d8\u306b\u5206\u5e03\n",
      "- $X_{i}$\u306f\u305d\u308c\u305e\u308c$S$\u500b\u306e\u70b9\u3092\u3082\u3064\n",
      "- $X_{i}$\u3054\u3068\u306b\u3001**\u53c2\u7167\u70b9\u304b\u3089\u6700\u3082\u8fd1\u3044\u70b9**\u30921\u3064\u9078\u3076\n",
      "- \u9078\u3070\u308c\u305f\u70b9\u306e\u53c2\u7167\u70b9\u304b\u3089\u306e\u8fd1\u3055\u306e\u9806\u306b$X$\u3092\u6574\u5217\u3059\u308b\n",
      "- $X_{i}$\u306e\u9806\u756a\u306b\u5f93\u3044\u3001\u78ba\u7387$P_{i}$\u3067\u305d\u308c\u305e\u308c\u70b9\u304c\u9078\u3070\u308c\u308b\n",
      "- \u70b9\u304c\u9078\u3070\u308c\u306a\u304b\u3063\u305f\u3068\u304d(\u78ba\u7387$1-P_{i}$)\u306f\u3001  \n",
      "\u6b21\u306e$X_{j}$\u306b\u3064\u3044\u3066\u540c\u69d8\u306e\u64cd\u4f5c\u3092\u884c\u3046\n",
      "- \u3059\u3079\u3066\u306e$X$\u304b\u3089\u70b9\u304c\u9078\u3070\u308c\u306a\u304b\u3063\u305f\u3068\u304d\u3001  \n",
      "\u6642\u523b\u30921\u9032\u3081\u3066\u540c\u3058\u64cd\u4f5c\u3092\u7e70\u308a\u8fd4\u3059"
     ]
    },
    {
     "cell_type": "markdown",
     "metadata": {
      "slideshow": {
       "slide_type": "slide"
      }
     },
     "source": [
      "<div align=\"center\">\n",
      "<img src=img/figure2.jpg width=80%/>\n",
      "</div>"
     ]
    },
    {
     "cell_type": "markdown",
     "metadata": {
      "slideshow": {
       "slide_type": "slide"
      }
     },
     "source": [
      "### 2-A. \u904e\u53bb\u306b\u4f9d\u3089\u305a\u70b9\u304c\u9078\u3070\u308c\u308b\u5834\u5408\n",
      "\n",
      "1. $X_{i}$\u3092\u9078\u3073\u3001\u6b21\u306b\u70b9($x\\in [0, 1]$)\u3092\u4e00\u69d8\u306b\u9078\u3076  \n",
      "2. <span style=\"background-color:#ef9a9a;color:black\">**\u904e\u53bb\u306e\u70b9\u3092\u53c2\u7167\u3057\u3066\u6b21\u306e\u70b9$x$\u3092\u9078\u3076**</span>  \n",
      "    \u53c2\u7167\u3059\u308b\u70b9\n",
      "    1. <span style=\"background-color:#ef9a9a;color:black\">**\u306a\u3057 (case 1)**</span>\n",
      "    2. \u4e00\u3064\u306e\u70b9\n",
      "    3. \u4e8c\u3064\u306e\u70b9"
     ]
    },
    {
     "cell_type": "markdown",
     "metadata": {
      "slideshow": {
       "slide_type": "slide"
      }
     },
     "source": [
      "- $X_{i}$\u304c\u3001$X$\u306e\u914d\u5217\u306e\u4e2d\u3067$r+1$($r = 1, 2, \\cdots , n-1$)\u756a\u76ee\u306b\u9078\u3070\u308c\u305f\u3068\u304d  \n",
      "$X_{i}$\u307e\u3067\u9806\u756a\u304c\u56de\u3063\u3066\u304f\u308b\u78ba\u7387\u306f\n",
      "\n",
      "$$p_{i}(r+1) = \\frac{\\sum_{J = \\langle j_{0}, \\cdots ,j_{r-1} \\rangle _{r}}\\prod_{j\\in J}(1-P_{j})}{_{n-1}C_{r}}.$$\n",
      "\n",
      "\n",
      "<blockquote>$J = \\langle j_{0}, j_{1}, \\cdots ,j_{r-1} \\rangle_{r}$\u306f\u3001$i$\u3092\u9664\u304f$n-1$\u500b\u306e\u8981\u7d20\u304b\u3089  \n",
      "$r$\u500b\u9078\u3093\u3060\u3068\u304d\u306e\u7d44\u307f\u5408\u308f\u305b\u306e\u3046\u3061\u306e1\u63c3\u3044\u3092\u3042\u3089\u308f\u3059</blockquote>\n",
      "\n",
      "- 1\u756a\u76ee\u306b\u306a\u308b\u3068\u304d\n",
      "\n",
      "$$p_{i}(1) = 1$$"
     ]
    },
    {
     "cell_type": "markdown",
     "metadata": {
      "slideshow": {
       "slide_type": "slide"
      }
     },
     "source": [
      "\u5177\u4f53\u4f8b:\n",
      "\n",
      "$N = 5$, $i = 1$, $r = 2$\u3068\u3059\u308b\u3068\u3001$X_{1}$\u307e\u3067\u306b2\u3064\u306e$X$\u304c\u3042\u308a\u3001\u305d\u306e\u7d44\u307f\u5408\u308f\u305b\u306f$(0,2)$, $(0,3)$, $(0,4)$, $(2,3)$, $(2,4)$, $(3,4)$\u306e6\u3064\u306e\u7d44\u307f\u5408\u308f\u305b\u304c\u3042\u308b\u3002\u4e0a\u306e\u5f0f\u3067\u306f$J$\u306e\u4e00\u3064\u306f$(0, 2)$\u3067\u3042\u308a\u3001\u3053\u306e\u3068\u304d$j_{0} = 0, j_{1} = 2$\u3067\u3042\u308b\u3002\u3053\u306e$J$\u306b\u95a2\u3057\u3066\u548c\u3092\u3068\u308a\u3001\u7d44\u307f\u5408\u308f\u305b\u306e\u6570$\\ _{4}C_{2} = 6$\u3067\u5272\u3063\u3066\u671f\u5f85\u5024\u3092\u6c42\u3081\u3066\u3044\u308b\u3002\n",
      "\n",
      "$$\\begin{align}\n",
      "p_{i}(r+1) &= \\left[(1-P_{0})(1-P_{2}) + (1-P_{0})(1-P_{3}) + (1-P_{0})(1-P_{4}) \\right.\\\\\n",
      "&\\ \\left. + (1-P_{2})(1-P_{3}) + (1-P_{2})(1-P_{4}) + (1-P_{3})(1-P_{4}) \\right]/6\n",
      "\\end{align}$$\n",
      "<div align=\"center\">\n",
      "<img src=img/idea_histerisis.jpg width=400px />\n",
      "</div>"
     ]
    },
    {
     "cell_type": "markdown",
     "metadata": {
      "slideshow": {
       "slide_type": "slide"
      }
     },
     "source": [
      "- \u904e\u53bb\u306e\u70b9\u3092\u53c2\u7167\u3057\u306a\u3044  \n",
      "$\\Rightarrow$ $X_{i}$\u304c$r$\u756a\u76ee\u3068\u306a\u308b\u78ba\u7387\u306f\u7b49\u3057\u3044\n",
      "\n",
      "- $X_{i}$\u304b\u3089\u70b9\u304c\u9078\u3070\u308c\u308b\u78ba\u7387\u306e\u671f\u5f85\u5024$p_{i}$\n",
      "\n",
      "$$p_{i} = \\frac{\\sum_{r=1}^{n}p_{i}(r)}{n}P_{i}.$$\n",
      "\n",
      "- ($S>K$\u306a\u3089)\u6bce\u6642\u523b\u3054\u3068\u306b\u3053\u306e\u78ba\u7387\u3067$X_{i}$\u304b\u3089\u70b9\u304c\u9078\u3070\u308c\u308b\u3053\u3068\u3068\u7b49\u4fa1\n",
      "\n",
      "$\\Rightarrow$\u5358\u7d14\u306a\u78ba\u7387\u904e\u7a0b\u306b\u5e30\u7740"
     ]
    },
    {
     "cell_type": "markdown",
     "metadata": {
      "slideshow": {
       "slide_type": "slide"
      }
     },
     "source": [
      "### 2-B. \u4e00\u3064\u306e\u70b9\u3092\u53c2\u7167\u3059\u308b\u5834\u5408 (case 2, case 3)\n",
      "\n",
      "1. $X_{i}$\u3092\u9078\u3073\u3001\u6b21\u306b\u70b9($x\\in [0, 1]$)\u3092\u4e00\u69d8\u306b\u9078\u3076  \n",
      "2. <span style=\"background-color:#ef9a9a;color:black\">**\u904e\u53bb\u306e\u70b9\u3092\u53c2\u7167\u3057\u3066\u6b21\u306e\u70b9$x$\u3092\u9078\u3076**</span>  \n",
      "    \u53c2\u7167\u3059\u308b\u70b9\n",
      "    1. \u306a\u3057 (**case 1**)\n",
      "    2. <span style=\"background-color:#ef9a9a;color:black\">**\u4e00\u3064\u306e\u70b9**</span>\n",
      "        1. <span style=\"background-color:#ef9a9a;color:black\">**\u6642\u523b0\u306b\u304a\u3051\u308b\u70b9 (case 2)**</span>\n",
      "        2. <span style=\"background-color:#ef9a9a;color:black\">**\u4e00\u3064\u524d\u306e\u6642\u523b\u306e\u70b9 (case 3)**</span>\n",
      "    3. \u4e8c\u3064\u306e\u70b9"
     ]
    },
    {
     "cell_type": "markdown",
     "metadata": {
      "slideshow": {
       "slide_type": "slide"
      }
     },
     "source": [
      "- \u70b9$x$\u3068\u70b9$y$\u306e\u9593\u306e\u8fd1\u3055\u306e\u6307\u6a19  \n",
      "$\\Rightarrow$ $a$\u6b21\u5143\u30e6\u30fc\u30af\u30ea\u30c3\u30c9\u8ddd\u96e2\n",
      "\n",
      "$$\\begin{align}D(x, y) &= d(x,y)\\\\\n",
      "&= \\sqrt{(x_{1} - y_{1})^{2} + (x_{2} - y_{2})^{2} + \\cdots + (x_{a} - y_{a})^{2}}\\end{align}$$"
     ]
    },
    {
     "cell_type": "markdown",
     "metadata": {
      "slideshow": {
       "slide_type": "subslide"
      }
     },
     "source": [
      "<div align=\"center\">$K=30$, $N=6$, $S=50$, $a=2$, $p=0.6$\u306e\u3068\u304d\n",
      "<img src=img/case_2.jpg width=60% />\n",
      "\u56f34. [case 2] $x_{0}$\u306e\u307f\u3092\u53c2\u7167</div>"
     ]
    },
    {
     "cell_type": "markdown",
     "metadata": {
      "slideshow": {
       "slide_type": "subslide"
      }
     },
     "source": [
      "<div align=\"center\">\n",
      "<img src=img/case_3.jpg width=60% />\n",
      "\u56f35. [case 3] \u4e00\u3064\u524d\u306e\u70b9\u306e\u307f\u3092\u53c2\u7167</div>"
     ]
    },
    {
     "cell_type": "markdown",
     "metadata": {
      "slideshow": {
       "slide_type": "slide"
      }
     },
     "source": [
      "### 2-C. \u4e8c\u3064\u306e\u70b9\u3092\u53c2\u7167\u3059\u308b\u5834\u5408 (case 4, case 5)\n",
      "\n",
      "1. $X_{i}$\u3092\u9078\u3073\u3001\u6b21\u306b\u70b9($x\\in [0, 1]$)\u3092\u4e00\u69d8\u306b\u9078\u3076  \n",
      "2. <span style=\"background-color:#ef9a9a;color:black\">**\u904e\u53bb\u306e\u70b9\u3092\u53c2\u7167\u3057\u3066\u6b21\u306e\u70b9$x$\u3092\u9078\u3076**</span>  \n",
      "    \u53c2\u7167\u3059\u308b\u70b9\n",
      "    1. \u306a\u3057 **(case 1)**\n",
      "    2. \u4e00\u3064\u306e\u70b9 **(case 2)**, **(case 3)**\n",
      "    3. <span style=\"background-color:#ef9a9a;color:black\">**\u4e8c\u3064\u306e\u70b9**</span>\n",
      "        1. <span style=\"background-color:#ef9a9a;color:black\">**\u6642\u523b0\u306b\u304a\u3051\u308b\u70b9 + \u4e00\u3064\u524d\u306e\u6642\u523b\u306e\u70b9 (case 4)**</span>\n",
      "        2. <span style=\"background-color:#ef9a9a;color:black\">**\u4e8c\u3064\u524d\u306e\u6642\u523b\u307e\u3067\u306e\u70b9 (case 5)**</span>\n",
      "\n",
      "\n",
      "- \u70b9$x$\u304b\u30892\u70b9$y,z$\u307e\u3067\u306e\u8fd1\u3055\u306e\u6307\u6a19\n",
      "\n",
      "$$D(x,(y,z)) = \\alpha d(x,y) + \\beta d(x,z)\\ \\ (\\alpha, \\beta > 0)$$"
     ]
    },
    {
     "cell_type": "markdown",
     "metadata": {
      "slideshow": {
       "slide_type": "subslide"
      }
     },
     "source": [
      "<div align=\"center\">$K=30$, $N=6$, $S=50$, $a=2$, $p=0.6,$  \n",
      "$\\alpha=2.5$, $\\beta=1$\u306e\u3068\u304d\n",
      "<img src=img/case_4.jpg width=60% />\n",
      "\u56f36. [case 4] $x_{0}$+\u4e00\u3064\u524d\u306e\u70b9\u3092\u53c2\u7167</div>"
     ]
    },
    {
     "cell_type": "markdown",
     "metadata": {
      "slideshow": {
       "slide_type": "subslide"
      }
     },
     "source": [
      "<div align=\"center\">\n",
      "<img src=img/case_5.jpg width=60% />\n",
      "\u56f37. [case 5] \u4e8c\u3064\u524d\u307e\u3067\u306e\u70b9\u3092\u53c2\u7167</div>"
     ]
    },
    {
     "cell_type": "markdown",
     "metadata": {
      "slideshow": {
       "slide_type": "slide"
      }
     },
     "source": [
      "###$X$\u306e\u6570$N$\u306b\u5bfe\u3059\u308b1\u30b9\u30c6\u30c3\u30d7\u3042\u305f\u308a\u306e\u79fb\u52d5\u8ddd\u96e2\u306e\u5e73\u5747\u5024$\\phi$\n",
      "\n",
      "<div align=\"center\">\n",
      "<img src=../sotsuron/sotsuron/img/simple3_N_2_fit.png width=60% />\n",
      "\u56f38. $X$\u306e\u6570$N$\u306b\u5bfe\u3059\u308b1\u30b9\u30c6\u30c3\u30d7\u3042\u305f\u308a\u306e\u79fb\u52d5\u8ddd\u96e2\u306e\u5e73\u5747\u5024$\\phi$</div>\n",
      "\n",
      "- 1\u30b9\u30c6\u30c3\u30d7\u3042\u305f\u308a\u306e\u79fb\u52d5\u8ddd\u96e2\u306e\u5e73\u5747\u5024$\\phi$\n",
      "\n",
      "$$\\phi \\sim N^{-0.52}$$"
     ]
    },
    {
     "cell_type": "markdown",
     "metadata": {
      "slideshow": {
       "slide_type": "slide"
      }
     },
     "source": [
      "1\u3064\u306e\u70b9\u306e\u307e\u308f\u308a\u306e\u76f4\u5f84$r$\u306b\u3088\u308b\u9762\u7a4d\u306e\u671f\u5f85\u5024\u304b\u3089\u3001\u4fc2\u6570\u306e\u7d76\u5bfe\u5024\u306f$0.5$\u3088\u308a\u5927\u304d\u3044\n",
      "$$\\frac{1}{2}r^{4} - \\frac{3}{8}r^{3} + \\pi r^{2} \\sim r^{c},\\ \\ c < 2\\ \\ \\ \\text{when}\\ \\  0<r<0.5 $$\n",
      "$$1 \\sim r^{c}N \\Rightarrow r \\sim N^{-1/c},\\ \\ \\ \\frac{1}{c} > 0.5  $$"
     ]
    },
    {
     "cell_type": "markdown",
     "metadata": {
      "slideshow": {
       "slide_type": "subslide"
      }
     },
     "source": [
      "1\u3064\u306e\u70b9\u3092\u9818\u57df$\\Omega=[0,1]\\times [0,1]$\u304b\u3089\u4e00\u69d8\u306b\u9078\u3093\u3060\u3068\u304d\u3001  \n",
      "\u305d\u306e\u70b9\u306e\u307e\u308f\u308a\u306b\u9577\u3055$r$\u306b\u3088\u3063\u3066\u4f5c\u3089\u308c\u308b\u9818\u57df\u306e\u9762\u7a4d\u306e\u671f\u5f85\u5024\n",
      "\n",
      "\u9078\u3093\u3060\u70b9\u304c\u9818\u57df\u306e\u4e2d\u5fc3\u4ed8\u8fd1\u3067\u306f$\\mathcal{S} = \\pi r^{2}$\u3068\u3067\u304d\u308b\u304c\u3001  \n",
      "\u9818\u57df$\\Omega$\u306e\u5883\u754c\u306b\u304b\u304b\u3063\u3066\u3044\u308b\u5834\u5408\u306b\u306f\u3001\u305d\u308c\u3088\u308a\u3082\u5c0f\u3055\u3044\u5024\u3068\u306a\u308b\u3002\n",
      "\n",
      "<div align=\"center\"><img src=img/omega.jpg width=60% />\n",
      "\u56f3: \u9818\u57df$\\Omega$\u3092\u5206\u5272\u3057\u305f\u5404\u9818\u57df</div>"
     ]
    },
    {
     "cell_type": "markdown",
     "metadata": {
      "slideshow": {
       "slide_type": "subslide"
      }
     },
     "source": [
      "$$p(r)_{\\Omega'} = \\pi r^{2}$$\n",
      "\n",
      "\n",
      "$$p(r)_{\\Omega''_{i}} = i \\sqrt{r^{2}-i^{2}} + r^{2} \\left[ \\pi -\\arccos \\frac{i}{r} \\right]$$\n",
      "\n",
      "$$\\begin{align}p(r)_{\\Omega''_{i,j}} = &\\frac{1}{2}\\left\\{ \\sqrt{r^{2}-i^{2}} + \\min \\left(j, \\sqrt{r^{2}-i^{2}}\\right) \\right\\}i \\\\\n",
      "&+ \\frac{1}{2}\\left\\{ \\sqrt{r^{2}-j^{2}} + \\min \\left( i, \\sqrt{r^{2}-j^{2}}\\right) \\right\\}j \\\\\n",
      "&+ \\frac{1}{2}r^{2} \\left\\{ 2\\pi -\\arccos \\frac{i}{r}-\\arccos \\frac{j}{r}\\right. \\\\\n",
      "&\\ \\ \\ \\ \\ \\ \\ \\ \\ \\ \\ \\ \\ \\ \\ \\ \\left. - \\min \\left( \\frac{\\pi}{2}, \\arccos \\frac{i}{r} +\\arccos \\frac{j}{r} \\right) \\right\\}\n",
      "\\end{align}$$\n",
      "\n",
      "\u305d\u308c\u305e\u308c\u306e\u9818\u57df\u3067\u7a4d\u5206\u3092\u5b9f\u884c\u3057\u3001\u305d\u306e\u7d50\u679c\u3092\u8db3\u305b\u3070  \n",
      "\u4efb\u610f\u306e\u70b9\u3092\u9078\u3093\u3060\u3068\u304d\u306e\u9762\u7a4d\u306e\u671f\u5f85\u5024\u304c\u5f97\u3089\u308c\u308b\u3002"
     ]
    },
    {
     "cell_type": "markdown",
     "metadata": {
      "slideshow": {
       "slide_type": "subslide"
      }
     },
     "source": [
      "<div align=\"center\"><img src=img/omega_x.jpg width=60% />\n",
      "\u56f3: $\\vec{x} \\in \\Omega''_{x}$\u3067\u3042\u308b\u3068\u304d\u306e\u9762\u7a4d$S$\u306e\u6c42\u3081\u65b9</div>"
     ]
    },
    {
     "cell_type": "markdown",
     "metadata": {
      "slideshow": {
       "slide_type": "subslide"
      }
     },
     "source": [
      "<div align=\"center\"><img src=img/omega_xy.jpg width=60% />\n",
      "\u56f3: $\\vec{x} \\in \\Omega''_{x,y}$\u306e\u3068\u304d\u306e\u9762\u7a4d$S$\u306e\u6c42\u3081\u65b9\u306e\u4e00\u4f8b\u3002</div>"
     ]
    },
    {
     "cell_type": "markdown",
     "metadata": {
      "slideshow": {
       "slide_type": "slide"
      }
     },
     "source": [
      "<div align=\"center\">\n",
      "<img src=img/simple3_p.png width=60% />\n",
      "\u56f39. \u9078\u629e\u78ba\u7387$p$\u306b\u5bfe\u3059\u308b\u5404\u30b9\u30c6\u30c3\u30d7\u9593\u89d2\u5ea6\u306e\u5e73\u5747\u5024$\\theta$(\u00b0)</div>\n",
      "\n",
      "- $p\\rightarrow$ \u5927  \n",
      "$\\Rightarrow$ \u30b9\u30c6\u30c3\u30d7\u9593\u89d2\u5ea6\u306e\u5e73\u5747\u5024\u306f\u5c0f\u3055\u304f\u306a\u308b  \n",
      "\u504f\u5dee\u306fcase\u306b\u4f9d\u3089\u305a50\u00b0\u7a0b\u5ea6\n",
      "- case5\u306f\u3001\u623b\u308a\u306e\u52b9\u679c\u306b\u3088\u3063\u3066\u89d2\u5ea6\u306f\u5927\u304d\u304f\u306a\u308b"
     ]
    },
    {
     "cell_type": "markdown",
     "metadata": {
      "slideshow": {
       "slide_type": "slide"
      }
     },
     "source": [
      "<div align=\"center\"><img src=img/idea_vec.jpg width=60% />\n",
      "\u56f310. \u30b9\u30c6\u30c3\u30d7\u9593\u89d2\u5ea6$\\theta$\u306e\u30a4\u30e1\u30fc\u30b8\u56f3\n",
      "</div>"
     ]
    },
    {
     "cell_type": "markdown",
     "metadata": {
      "slideshow": {
       "slide_type": "slide"
      }
     },
     "source": [
      "### \u8fd1\u8ddd\u96e2\u306e\u70b9\u3092\u30af\u30e9\u30b9\u30bf\u30fc\u5316\u3059\u308b\u30e2\u30c7\u30eb\n",
      "\n",
      "- \u307b\u3068\u3093\u3069\u306e\u8a2d\u5b9a\u306f2\u3067\u8003\u3048\u305f\u3082\u306e\u3068\u540c\u3058\u3002\n",
      "- \u305f\u3060\u3057\u3001\u95be\u5024$r$\u3088\u308a\u8fd1\u3044\u4f4d\u7f6e\u306b\u3042\u308b\u70b9\u3092\u3059\u3079\u3066\u30af\u30e9\u30b9\u30bf\u30fc\u5316\n",
      "- \u540c\u3058\u30af\u30e9\u30b9\u30bf\u30fc\u5185\u306e\u3069\u308c\u304b\u306e\u70b9\u304c\u9078\u3070\u308c\u308b\u3068\u3001\u305d\u308c\u4ee5\u5916\u306e\u70b9\u306f\u9078\u3070\u308c\u306a\u304f\u306a\u308b\n",
      "\n",
      "<div align=\"center\"><img src=\"img/nearness.png\" width=50%>\n",
      "\u56f311. \u30af\u30e9\u30b9\u30bf\u30fc\u540c\u58eb\u3092\u7d50\u3076\u30e2\u30c7\u30eb\u306e\u30b7\u30df\u30e5\u30ec\u30fc\u30b7\u30e7\u30f3\u4f8b($r=0.07$)</div>"
     ]
    },
    {
     "cell_type": "markdown",
     "metadata": {
      "slideshow": {
       "slide_type": "slide"
      }
     },
     "source": [
      "### \u30af\u30e9\u30b9\u30bf\u30fc\u5316\u4fc2\u6570$r$\u306b\u5bfe\u3059\u308b\u30af\u30e9\u30b9\u30bf\u30fc\u306e\u6570\u306e\u63a8\u79fb\n",
      "\n",
      "<div align=\"center\"><img src=\"img/r_phi_1_sigmoid.png\" width=60%>\n",
      "\u56f3. \u6a2a\u8ef8$r$\u3001\u7e26\u8ef8$1-(\\text{\u30af\u30e9\u30b9\u30bf\u30fc\u306e\u6570})/(\\text{\u70b9\u306e\u7dcf\u6570})$</div>\n",
      "\n",
      "\u534a\u5f84$r$\u306e\u4e2d\u306b\u3042\u308b\u70b9\u540c\u58eb\u3092\u7d50\u3076\u3088\u3046\u306b\u30af\u30e9\u30b9\u30bf\u30fc\u3092\u4f5c\u3063\u3066\u3044\u304f\u3068\u304d\u306e\u70b9\u306e\u7dcf\u6570\u306b\u5bfe\u3059\u308b\u30af\u30e9\u30b9\u30bf\u30fc\u306e\u6570\u306e\u5272\u5408\u3002\n",
      "\n",
      "\u30d5\u30a3\u30c3\u30c6\u30a3\u30f3\u30b0\u95a2\u6570: ($\\omega\\sim 0.0715$)\n",
      "\n",
      "$$\\phi(r) = 1- \\exp\\left[ -\\left( \\frac{r}{\\omega}\\right)^{a}\\right]$$"
     ]
    },
    {
     "cell_type": "markdown",
     "metadata": {
      "slideshow": {
       "slide_type": "slide"
      }
     },
     "source": [
      "### $X$\u306e\u8981\u7d20\u6570$N$\u3068\u5e73\u5747\u30b9\u30c6\u30c3\u30d7\u9593\u8ddd\u96e2\u3068\u306e\u95a2\u4fc2\n",
      "\n",
      "<div align=\"center\"><img src=\"img/N_l_2.png\" width=60%>\n",
      "\u56f312. \u30af\u30e9\u30b9\u30bf\u30fc\u540c\u58eb\u3092\u7d50\u3076\u30e2\u30c7\u30eb\u306b\u304a\u3051\u308b\u3001  \n",
      "$X_{i}$\u306e\u6570$N$\u3068\u5e73\u5747\u30b9\u30c6\u30c3\u30d7\u9593\u8ddd\u96e2$\\phi$\u306e\u95a2\u4fc2</div>\n",
      "\n",
      "- \u5e73\u5747\u30b9\u30c6\u30c3\u30d7\u9593\u8ddd\u96e2$\\phi$\u306f$N$\u306b\u5bfe\u3057\u3066\u4e0b\u306b\u51f8\u306a\u95a2\u6570\u7cfb\n",
      "- $N$\u304c\u5c0f\u3055\u3044\u3068\u304d  \n",
      "$\\Rightarrow$ \u70b9\u306e\u5bc6\u5ea6\u5c0f $\\rightarrow$ \u70b9\u9593\u8ddd\u96e2\u5897\u5927(\u3053\u308c\u307e\u3067\u3068\u540c\u3058\u7406\u7531)\n",
      "- $N$\u304c\u5927\u304d\u3044\u3068\u304d  \n",
      "$\\Rightarrow$ \u70b9\u306e\u5bc6\u5ea6\u5927 $\\rightarrow$ \u30af\u30e9\u30b9\u30bf\u30fc\u5316\u4fc3\u9032 $\\rightarrow$ \u30af\u30e9\u30b9\u30bf\u30fc\u9593\u8ddd\u96e2\u5897\u5927"
     ]
    },
    {
     "cell_type": "markdown",
     "metadata": {
      "slideshow": {
       "slide_type": "slide"
      }
     },
     "source": [
      "##\u7d50\u8ad6\n",
      "\n",
      "- \u4f5c\u6210\u3057\u305f\u305d\u308c\u305e\u308c\u306e\u30e2\u30c7\u30eb\u306b\u3064\u3044\u3066\u89e3\u6790\u3092\u884c\u3063\u305f\n",
      "\n",
      "- \u30b7\u30b9\u30c6\u30e0\u30b5\u30a4\u30ba\u306b\u95a2\u3057\u3066\u30d9\u30ad\u7684\u306b\u5909\u5316\u3059\u308b\u3088\u3046\u306a\u91cf\u3092\u89b3\u5bdf\u3059\u308b\u3053\u3068\u304c\u3067\u304d\u305f\n",
      "$$\\phi \\sim N^{-0.52}$$\n",
      "\n",
      "- \u5f97\u3089\u308c\u305f\u7d50\u679c\u306f\u671f\u5f85\u3055\u308c\u305f\u7d50\u679c\u3068\u4e00\u81f4\u3057\u305f\n",
      "- \u7cfb\u306e\u30b5\u30a4\u30ba\u3068\u306e\u4f9d\u5b58\u6027\u306b\u3064\u3044\u3066\u3001\u57fa\u790e\u7684\u306a\u554f\u984c\u3092\u89e3\u304f\u3053\u3068\u304c\u3067\u304d\u305f"
     ]
    },
    {
     "cell_type": "markdown",
     "metadata": {
      "slideshow": {
       "slide_type": "slide"
      }
     },
     "source": [
      "##\u53c2\u8003\u6587\u732e\n",
      "\n",
      "- Geoffrey West, James Brown, Brian Enquist,\n",
      "  <a href=\"http://www.sciencemag.org/content/276/5309/122.abstract\">A General Model for the Origin of Allometric Scaling Laws in Biology</a>,\n",
      "  *Science*, Val.276, No.5309, pp.122-126, 1997.\n",
      "\n",
      "- C. R. White, P. Cassey, T. M. Blackburn,\n",
      "Allometric exponents do not support a universal metabolic allometry,\n",
      "*Ecology*, **88**(2), 315-323 (2007).\n",
      "\n",
      "- T. Kolokotrones, V. Savage, E. J. Deeds, W. Fontana,\n",
      "Curvature in metabolic scaling,\n",
      "*Nature L*, 464, 753-756 (2010)\n",
      "\n",
      "- J. Kozlowski, J. Weiner,\n",
      "Interspecific allometries are by-products of body size optimization,\n",
      "*The American Naturalist*, **149**(2) (1997).\n",
      "\n",
      "- G. B. West, J. H. Brown,\n",
      "Life's universal scaling laws,\n",
      "*Physics Today*, **57**, 36-49 (2004).\n",
      "\n",
      "- H. A. Feldman, T. A. Mcmahon,\n",
      "The \u00be mass exponent for energy metabolism is not a statistical artifact,\n",
      "*Respiration Physiology*, **52**, 149-163, (1983).\n"
     ]
    },
    {
     "cell_type": "markdown",
     "metadata": {
      "slideshow": {
       "slide_type": "subslide"
      }
     },
     "source": [
      "- G. B. West, J. H. Brown,\n",
      "The origin of allometric scaling laws in biology from genomes to ecosystems towards a quantitative unifying theory of biological structure and organization,\n",
      "*The Journal of Experimental Biology*, **208**, 1575-1592 (2005).\n",
      "\n",
      "- V. M. Savage, J. F. Gilloly, W. H. Woodruff, G. B. West, A. P. Allen, B. J. Enquist, J. H. Erown,\n",
      "The predominance of quoter-power scaling in biology,\n",
      "*Functional Ecology*, **18**, 257-282 (2004).\n",
      "\n",
      "- \u672c\u5ddd \u9054\u96c4,\n",
      "  \u300c\u30db\u30e4\u2015\u7fa4\u4f53\u5f62\u6210\u3068\u81ea\u5df1\u7d44\u7e54\u5316\u300d,\n",
      "  \u300e\u81ea\u5df1\u7d44\u7e54\u5316\u30cf\u30f3\u30c9\u30d6\u30c3\u30af\u300f, 330 - 331, 2009.\n",
      "\n",
      "- \u77f3\u5ddd \u6b63\u7d14\u30fb\u8db3\u7acb \u306b\u308c\u304b\u30fb\u5ca1\u672c \u6d69\u4e00,\n",
      "\u4f1a\u8b70\u5206\u6790\u306e\u305f\u3081\u306e\u6570\u5024\u30b7\u30df\u30e5\u30ec\u30fc\u30b7\u30e7\u30f3\u6280\u6cd5-\u7d44\u7e54\u5185\u96c6\u56e3\u306b\u898b\u3089\u308c\u308b\u610f\u601d\u6c7a\u5b9a\u30e2\u30c7\u30eb\u306e\u958b\u767a-,\n",
      "\u793e\u4f1a\u6280\u8853\u7814\u7a76\u8ad6\u6587\u96c6, 2004.\n",
      "\n",
      "- \u57ce \u7dbe\u5b9f\u30fb\u7d30\u99ac \u5b8f\u901a,\n",
      "\u591a\u4eba\u6570\u4f1a\u8a71\u306b\u304a\u3051\u308b\u81ea\u767a\u7684\u30b8\u30a7\u30b9\u30c1\u30e3\u30fc\u306e\u540c\u671f,\n",
      "*Congnitive Studies*, **16**(1), 103-119, 2009."
     ]
    },
    {
     "cell_type": "markdown",
     "metadata": {
      "slideshow": {
       "slide_type": "subslide"
      }
     },
     "source": [
      "- \u85e4\u672c \u5b66\u30fb\u5927\u574a \u90c1\u592b,\n",
      "\u5c0f\u96c6\u56e3\u306e\u4f1a\u8a71\u306e\u5c55\u958b\u306b\u53ca\u307c\u3059\u4f1a\u8a71\u8005\u306e\u767a\u8a71\u884c\u52d5\u50be\u5411\u306e\u5f71\u97ff,\n",
      "*The Japanese Journal of Experimental Social Psychology*, **47**(1), 51-60, 2007.\n",
      "\n",
      "- \u9ad8\u826f \u7f8e\u6a39,\n",
      "\u96c6\u56e3\u8a0e\u8b70\u306e\u53c2\u52a0\u8005\u306e\u4eba\u6570\u304c\u96c6\u56e3\u6c7a\u5b9a\u304a\u3088\u3073\u500b\u4eba\u6c7a\u5b9a\u306b\u53ca\u307c\u3059\u5f71\u97ff\u306b\u3064\u3044\u3066,\n",
      "*\u4eba\u9593\u79d1\u5b66*, **1**, 67-84, 1998.\n",
      "\n",
      "- \u5c71\u672c\u6d69\u30fb\u68ee\u9686\u4e00\u30fb\u85e4\u66f2\u54f2\u90ce,\n",
      "\u30b7\u30df\u30e5\u30ec\u30fc\u30b7\u30e7\u30f3\u306b\u3088\u308b\u78ba\u7387\u8ad6,\n",
      "\u65e5\u672c\u8a55\u8ad6\u793e, 137-143, 1993."
     ]
    }
   ],
   "metadata": {}
  }
 ]
}