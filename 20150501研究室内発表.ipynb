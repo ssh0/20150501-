{
 "cells": [
  {
   "cell_type": "markdown",
   "metadata": {
    "internals": {
     "slide_type": "subslide"
    },
    "slideshow": {
     "slide_type": "slide"
    }
   },
   "source": [
    "<div align=\"center\"><h1>効率とシステムサイズの関係に対する</h1>\n",
    "    <h1>確率モデルによる考察</h1></div>"
   ]
  },
  {
   "cell_type": "markdown",
   "metadata": {
    "internals": {
     "slide_helper": "subslide_end"
    },
    "slide_helper": "slide_end",
    "slideshow": {
     "slide_type": "-"
    }
   },
   "source": [
    "<div align=\"right\">\n",
    "早稲田大学先進理工学研究科\n",
    "</div><div align=\"right\">\n",
    "物理学及応用物理学専攻\n",
    "</div><div align=\"right\">\n",
    "山崎研究室 M1 藤本將太郎\n",
    "</div>\n",
    "\n",
    "\n",
    "<div align=\"right\">\n",
    "2015年5月1日セミナー発表\n",
    "</div>"
   ]
  },
  {
   "cell_type": "markdown",
   "metadata": {
    "internals": {
     "slide_helper": "subslide_end",
     "slide_type": "subslide"
    },
    "slide_helper": "slide_end",
    "slideshow": {
     "slide_type": "slide"
    }
   },
   "source": [
    "## アウトライン\n",
    "\n",
    "- 卒業論文で扱った内容に関して\n",
    "    - 研究背景\n",
    "    - 作成したモデル\n",
    "    - 解析結果\n",
    "    - 結論"
   ]
  },
  {
   "cell_type": "markdown",
   "metadata": {
    "internals": {
     "slide_helper": "subslide_end",
     "slide_type": "subslide"
    },
    "slide_helper": "slide_end",
    "slideshow": {
     "slide_type": "slide"
    }
   },
   "source": [
    "## 卒業論文『効率とシステムサイズの関係に対する確率モデルによる考察』"
   ]
  },
  {
   "cell_type": "markdown",
   "metadata": {
    "internals": {
     "slide_helper": "subslide_end",
     "slide_type": "subslide"
    },
    "slide_helper": "slide_end",
    "slideshow": {
     "slide_type": "slide"
    }
   },
   "source": [
    "### 背景\n",
    "\n",
    "- アロメトリー則($E\\sim M^{3/4}$)\n",
    "\n",
    "- ホヤの実験によるシステムサイズと代謝率の関係\n",
    "\n",
    "- 会議やグループワークの参加人数と効率の関係\n",
    "\n",
    "\n",
    "- 一般化  \n",
    "  系のシステムサイズが大きくなると、その特徴量がシステムサイズに対して比例して大きくはならず、相互作用などによって期それより小さくなるような系\n",
    "  \n",
    "### アプローチ\n",
    "\n",
    "- 会議をイメージしながらも、より一般的、抽象的なモデルを作成\n",
    "- モデルに関して解析的な計算、数値シミュレーション\n",
    "- 特徴量のシステムサイズに対する応答を調べる"
   ]
  },
  {
   "cell_type": "markdown",
   "metadata": {
    "internals": {
     "slide_helper": "subslide_end",
     "slide_type": "subslide"
    },
    "slide_helper": "slide_end",
    "slideshow": {
     "slide_type": "slide"
    }
   },
   "source": [
    "### モデルの作成\n",
    "\n",
    "#### 設定\n",
    "\n",
    "- はじめに一つの議題が与えられる\n",
    "- <font color=\"red\">システムサイズ</font>は会議の参加者の人数$\\color{red}{N}$とする\n",
    "- 参加者$X_{1}, \\cdots , X_{N}$\n",
    "- 参加者はそれまでに提出された意見に関連した自分の意見を述べる\n",
    "- 発言の長さは参加者の数や意見には影響されないとする(離散時間<font color=\"red\">$k$</font>の導入)\n",
    "- ある時刻$k$に発言するのは一人のみであるとする\n",
    "- 全体を統括する役割を持った参加者は考えない\n",
    "\n",
    "\n",
    "\n",
    "- 発言はそれを特徴づける$a$($a<+\\infty$)個のパラメータの値で表せる\n",
    "- 各離散時刻$k$になされた発言$\\color{red}{x_{k}}$は$\\mathbb{R}^{a}$上の有界集合$\\Omega\\subset \\mathbb{R}^{a}$における<font color=\"red\">点</font>\n",
    "- 時刻$k$を1進めるごとに1つの点$x_{k}$を選択し、この試行を<font color=\"red\">時刻$K$まで</font>続ける\n",
    "\n",
    "意見の選ばれ方と選ばれた意見の位置関係によって決められるネットワークの性質によって会議の効率が表せると仮定している。"
   ]
  },
  {
   "cell_type": "markdown",
   "metadata": {
    "internals": {
     "slide_helper": "subslide_end",
     "slide_type": "subslide"
    },
    "slide_helper": "slide_end",
    "slideshow": {
     "slide_type": "slide"
    }
   },
   "source": [
    "<div align=\"center\"><img src=img/image.jpg width=80% />\n",
    "\n",
    "図1. モデル化の概念図</div>"
   ]
  },
  {
   "cell_type": "markdown",
   "metadata": {
    "internals": {
     "slide_helper": "subslide_end",
     "slide_type": "subslide"
    },
    "slide_helper": "slide_end",
    "slideshow": {
     "slide_type": "slide"
    }
   },
   "source": [
    "#### 言葉の定義\n",
    "\n",
    "- 会議 $\\rightarrow $試行\n",
    "- 意見 $\\rightarrow $点($x$)\n",
    "- 参加者 $\\rightarrow $集合$\\displaystyle X_{i} \\subset X \\left( = \\bigcup _{i=1}^{N}X_{i}\\right)$\n",
    "\n",
    "点の選び方とネットワークの構成方法をいくつか仮定してモデルを作成  \n",
    "それぞれにおいて特徴量を計算し、システムサイズ$N$との関係を考えるのにふさわしいはモデルはどのようであるか考察する"
   ]
  },
  {
   "cell_type": "markdown",
   "metadata": {
    "internals": {
     "slide_helper": "subslide_end",
     "slide_type": "subslide"
    },
    "slide_helper": "slide_end",
    "slideshow": {
     "slide_type": "slide"
    }
   },
   "source": [
    "## 解析"
   ]
  },
  {
   "cell_type": "markdown",
   "metadata": {
    "internals": {
     "slide_helper": "subslide_end",
     "slide_type": "subslide"
    },
    "slide_helper": "slide_end",
    "slideshow": {
     "slide_type": "slide"
    }
   },
   "source": [
    "### 1. $X_{i}$を選ぶ確率が等しく、点$x$が$[0,1]$から一様に選ばれる場合\n",
    "\n",
    "\n",
    "<div align=\"center\"><img src=img/line.png width=70% />\n",
    "図2. 線分$[0,1]$上に取られる点$x_{i}$と$r, x_{k+1}$によって定まる領域$A$</div>\n",
    "\n",
    "- 点の選択規則:\n",
    "    - $[0,1]$の範囲から一様に選ばれる\n",
    "\n",
    "- エッジの生成規則:\n",
    "- 選択された点が閾値$r$により定まる領域(<font color=\"red\">赤</font>で示した領域)内にあるとき、そのノード間にエッジを張る\n"
   ]
  },
  {
   "cell_type": "markdown",
   "metadata": {
    "internals": {
     "slide_helper": "subslide_end",
     "slide_type": "subslide"
    },
    "slide_helper": "slide_end",
    "slideshow": {
     "slide_type": "slide"
    }
   },
   "source": [
    "時刻$k+1$に点$x_{k+1}$が選ばれた時、$r$によって定まる領域$A$\n",
    "\n",
    "$$A = [\\max(0,x_{k+1}-r), \\min(x_{k+1}+r,1)]$$ \n",
    "\n",
    "に入る点の個数$Y$は、\n",
    "- それまでに選択された点の数は$k$個\n",
    "- $A$内に1つの点が存在する確率$p(x_{k+1}, r)$は独立\n",
    "\n",
    "から、確率変数$Y$として以下の分布に従うことが分かる:\n",
    "\n",
    "$$\\begin{align} P[Y=y](x_{x+1}, r) &= \\ _{k}C_{y}p(x_{k+1}, r)^{y}(1-p(x_{k+1}r))^{k-y}\\\\\n",
    "&= \\color{blue}{B(k ,p(x_{k+1}, r))\\ \\ :二項分布}\\end{align}$$\n",
    "\n",
    "時刻$k+1$に$A$に入る点の数、すなわち結ばれるエッジの本数の期待値$l$は、\n",
    "\n",
    "$$\\begin{align}l(r,k)&=<<yB(k, p(x_{k+1}, r))>_{y}>_{x_{k+1}}\\\\\n",
    "&= <kp(x_{k+1}, r)>_{x_{k+1}} \\\\\n",
    "&= k(-r^{2} + 2r)\\end{align}$$\n",
    "\n",
    " <span style=\"background-color:red;color:white\">:Remark:</span> システムサイズ$N$との関連は無い"
   ]
  },
  {
   "cell_type": "markdown",
   "metadata": {
    "internals": {
     "slide_helper": "subslide_end",
     "slide_type": "subslide"
    },
    "slide_helper": "slide_end",
    "slideshow": {
     "slide_type": "slide"
    }
   },
   "source": [
    "### 2. $X_{i}$を選ぶ確率が異なり、$x$を$[0,1]$から一様に選ぶ場合\n",
    "\n",
    "- $x$の選び方は同じ  \n",
    "$\\Rightarrow$選ばれた点$x$によるネットワークは同じ\n",
    "\n",
    "-  時刻$k$までの次数の総和$L$(時間に対する累積次数分布)\n",
    "\n",
    "<div align=\"center\">\n",
    "<img src=img/download2_4.png width=60% />\n",
    "</div>\n",
    "<div align=\"center\">図3. 時刻$k$までの次数の総和$L$</div>\n",
    "\n",
    "- 緑の曲線: 理論式(1の結果)\n",
    "$$L = \\frac{1}{2}(-r^{2} + 2r)k^{2}$$\n",
    "$\\Rightarrow$一致\n"
   ]
  },
  {
   "cell_type": "markdown",
   "metadata": {
    "internals": {
     "slide_helper": "subslide_end",
     "slide_type": "subslide"
    },
    "slide_helper": "slide_end",
    "slideshow": {
     "slide_type": "slide"
    }
   },
   "source": [
    "### 3. 過去の点を参照して次の点$x$が選ばれる\n",
    "\n",
    "#### 設定\n",
    "\n",
    "- $\\Omega = [0, 1] \\times [0,1]$に一様分布する確率変数$x$\n",
    "- $X_{i}$はそれぞれ予め$S$個の点をもつ"
   ]
  },
  {
   "cell_type": "markdown",
   "metadata": {
    "internals": {
     "slide_helper": "subslide_end",
     "slide_type": "subslide"
    },
    "slide_helper": "slide_end",
    "slideshow": {
     "slide_type": "slide"
    }
   },
   "source": [
    "- $X_{i}$ごとに、**参照点(過去の点)から最も近い点**を1つ選ぶ\n",
    "- 選ばれた点の参照点からの近さの順に$X$を整列する\n",
    "- $X_{i}$の順番に従い、時間に依存しない確率$P_{i}$でそれぞれ点が選ばれる\n",
    "- 点が選ばれなかったとき(確率$1-P_{i}$)は次の$X_{j}$について同様の操作\n",
    "- すべての$X$から点が選ばれなかったとき、その時刻には$x_{0}$が選ばれたとみなして、時刻を1進め、同じ操作を行う"
   ]
  },
  {
   "cell_type": "markdown",
   "metadata": {
    "internals": {
     "slide_helper": "subslide_end",
     "slide_type": "subslide"
    },
    "slide_helper": "slide_end",
    "slideshow": {
     "slide_type": "slide"
    }
   },
   "source": [
    "<div align=\"center\">\n",
    "<img src=img/figure2.jpg width=80%/>\n",
    "図4. 過去の点`pre`を参照して次の点を選択する過程\n",
    "</div>"
   ]
  },
  {
   "cell_type": "markdown",
   "metadata": {
    "internals": {
     "slide_helper": "subslide_end",
     "slide_type": "subslide"
    },
    "slide_helper": "slide_end",
    "slideshow": {
     "slide_type": "slide"
    }
   },
   "source": [
    "### 3-A. 過去に依らず点が選ばれる場合 (case 1)\n",
    "\n",
    "- 参照する点: なし\n"
   ]
  },
  {
   "cell_type": "markdown",
   "metadata": {
    "internals": {
     "slide_helper": "subslide_end",
     "slide_type": "subslide"
    },
    "slide_helper": "slide_end",
    "slideshow": {
     "slide_type": "slide"
    }
   },
   "source": [
    "- $X_{i}$が、$N$個の$X$の中で$r+1$($r = 1, 2, \\cdots , n-1$)番目に選ばれたとき  \n",
    "$X_{i}$まで順番が回ってくる確率は\n",
    "\n",
    "$$p_{i}(r+1) = \\frac{1}{_{n-1}C_{r}}\\sum_{J = \\langle j_{0}, \\cdots ,j_{r-1} \\rangle _{r}} \\left( \\prod_{j\\in J}(1-P_{j}) \\right) .$$\n",
    "\n",
    "\n",
    "<blockquote>$J = \\langle j_{0}, j_{1}, \\cdots ,j_{r-1} \\rangle_{r}$は、$i$を除く$n-1$個の要素から  \n",
    "$r$個選んだときの組み合わせのうちの1揃いをあらわす</blockquote>\n",
    "\n",
    "- 1番目になる($r=0$)とき\n",
    "\n",
    "$$p_{i}(1) = 1$$"
   ]
  },
  {
   "cell_type": "markdown",
   "metadata": {
    "internals": {
     "slide_helper": "subslide_end",
     "slide_type": "subslide"
    },
    "slide_helper": "slide_end",
    "slideshow": {
     "slide_type": "slide"
    }
   },
   "source": [
    "**ex)**\n",
    "\n",
    "$N = 5$, $i = 1$, $r = 2$のとき、  \n",
    "$X_{1}$の前の2つの$X$の選び方は$(0,2)$, $(0,3)$, $(0,4)$, $(2,3)$, $(2,4)$, $(3,4)$の6つ。  \n",
    "\n",
    "それぞれの組に関して$(1-P_{j})$を乗算したものの和をとり、組み合わせの数$\\ _{4}C_{2} = 6$で割れば、$X_{1}$まで順番が回る確率となる。\n",
    "\n",
    "$$\\begin{align}\n",
    "p_{i}(r+1) &= \\left[(1-P_{0})(1-P_{2}) + (1-P_{0})(1-P_{3}) + (1-P_{0})(1-P_{4}) \\right.\\\\\n",
    "&\\ \\left. + (1-P_{2})(1-P_{3}) + (1-P_{2})(1-P_{4}) + (1-P_{3})(1-P_{4}) \\right]/6\n",
    "\\end{align}$$\n",
    "<div align=\"center\">\n",
    "<img src=img/idea_histerisis.jpg width=400px />\n",
    "図5. $N = 5$, $i = 1$, $r = 2$のとき\n",
    "</div>"
   ]
  },
  {
   "cell_type": "markdown",
   "metadata": {
    "internals": {
     "slide_helper": "subslide_end",
     "slide_type": "subslide"
    },
    "slide_helper": "slide_end",
    "slideshow": {
     "slide_type": "slide"
    }
   },
   "source": [
    "- 過去の点を参照しない  \n",
    "$\\Rightarrow$ $X_{i}$が$r$番目となる確率は等しい\n",
    "\n",
    "- $X_{i}$から点が選ばれる確率の期待値$p_{i}$\n",
    "\n",
    "$$p_{i} = <p_{i}(r)>_{r} = \\frac{\\sum_{r=1}^{n}p_{i}(r)}{n}P_{i}.$$\n",
    "\n",
    "- ($S>K$なら)毎時刻ごとにこの確率で$X_{i}$から点が選ばれることと等価\n",
    "\n",
    "$\\Rightarrow$ $P_{i}$に依存する確率過程に帰着"
   ]
  },
  {
   "cell_type": "markdown",
   "metadata": {
    "internals": {
     "slide_helper": "subslide_end",
     "slide_type": "subslide"
    },
    "slide_helper": "slide_end",
    "slideshow": {
     "slide_type": "slide"
    }
   },
   "source": [
    "### 3-B. 一つの点を参照する場合 (case 2, case 3)\n",
    "\n",
    "- 点$x$と点$y$の間の近さの指標  \n",
    "$\\Rightarrow$ $a$次元ユークリッド距離\n",
    "\n",
    "$$\\begin{align}D(x, y) &= d(x,y)\\\\\n",
    "&= \\sqrt{(x_{1} - y_{1})^{2} + (x_{2} - y_{2})^{2} + \\cdots + (x_{a} - y_{a})^{2}}\\end{align}$$\n",
    "\n",
    "- 参照する点\n",
    "    - はじめに与えられた点$x_{0}$ (case 2)\n",
    "    - 直前に選ばれた点$x_{k-1}$ (case 3)"
   ]
  },
  {
   "cell_type": "markdown",
   "metadata": {
    "internals": {
     "slide_helper": "subslide_end",
     "slide_type": "subslide"
    },
    "slide_helper": "slide_end",
    "slideshow": {
     "slide_type": "slide"
    }
   },
   "source": [
    "#### シミュレーションの1例\n",
    "\n",
    "<div align=\"center\">$K=30$, $N=6$, $S=50$, $a=2$, $p=0.6$のとき\n",
    "<table width=90%>\n",
    "<tr>\n",
    "<td><div align=\"center\">\n",
    "<img src=img/case_2.jpg width=100% />\n",
    "図6. [case 2] $x_{0}$のみを参照</div>\n",
    "</td>\n",
    "<td><div align=\"center\">\n",
    "<img src=img/case_3.jpg width=100% />\n",
    "図7. [case 3] 一つ前の点のみを参照</div>\n",
    "</td>\n",
    "</tr>\n",
    "</table>\n",
    "</div>\n"
   ]
  },
  {
   "cell_type": "markdown",
   "metadata": {
    "internals": {
     "slide_helper": "subslide_end",
     "slide_type": "subslide"
    },
    "slide_helper": "slide_end",
    "slideshow": {
     "slide_type": "slide"
    }
   },
   "source": [
    "### 3-C. 二つの点を参照する場合 (case 4, case 5)\n",
    "\n",
    "- 点$x$から2点$y,z$までの近さの指標\n",
    "\n",
    "$$D(x,(y,z)) = \\alpha d(x,y) + \\beta d(x,z)\\ \\ (\\alpha, \\beta > 0)$$\n",
    "\n",
    "- 参照する点\n",
    "    - はじめに与えられた点$x_{0}$ + 直前に選択された点$x_{k-1}$ (case 4)\n",
    "    - 2つ前の時刻までに選択された点$x_{k-2}$, $x_{k-1}$ (case 5)\n"
   ]
  },
  {
   "cell_type": "markdown",
   "metadata": {
    "internals": {
     "slide_helper": "subslide_end",
     "slide_type": "subslide"
    },
    "slide_helper": "slide_end",
    "slideshow": {
     "slide_type": "slide"
    }
   },
   "source": [
    "#### シミュレーションの1例\n",
    "\n",
    "<div align=\"center\">$K=30$, $N=6$, $S=50$, $a=2$, $p=0.6,$  \n",
    "$\\alpha=2.5$, $\\beta=1$のとき\n",
    "<table width=90%>\n",
    "<tr>\n",
    "<td><div align=\"center\">\n",
    "<img src=img/case_4.jpg width=100% />\n",
    "図8. [case 4] $x_{0}$+一つ前の点を参照</div>\n",
    "</td>\n",
    "<td><div align=\"center\">\n",
    "<img src=img/case_5.jpg width=100% />\n",
    "図9. [case 5] 二つ前までの点を参照</div>\n",
    "</td>\n",
    "</tr>\n",
    "</table>\n",
    "</div>"
   ]
  },
  {
   "cell_type": "markdown",
   "metadata": {
    "internals": {
     "slide_helper": "subslide_end",
     "slide_type": "subslide"
    },
    "slide_helper": "slide_end",
    "slideshow": {
     "slide_type": "slide"
    }
   },
   "source": [
    "### 1ステップあたりの移動距離の平均値$\\phi \\sim N^{-0.52}$\n",
    "\n",
    "<div align=\"center\">\n",
    "<img src=img/simple3_N_2_fit.png width=60% />\n",
    "図10. $X$の数$N$に対する1ステップあたりの移動距離の平均値$\\phi$(両対数グラフ)</div>\n",
    "\n",
    "- 1ステップあたりの移動距離の平均値$\\phi$\n",
    "\n",
    "$$\\phi \\sim N^{-0.52}$$"
   ]
  },
  {
   "cell_type": "markdown",
   "metadata": {
    "internals": {
     "slide_helper": "subslide_end",
     "slide_type": "subslide"
    },
    "slide_helper": "subslide_end",
    "slideshow": {
     "slide_type": "slide"
    }
   },
   "source": [
    "1つの点のまわりの直径$r$による面積の期待値から、係数の絶対値は$0.5$より大きい\n",
    "$$\\frac{1}{2}r^{4} - \\frac{3}{8}r^{3} + \\pi r^{2} \\sim r^{c},\\ \\ c < 2\\ \\ \\ \\text{when}\\ \\  0<r<0.5 $$\n",
    "$$1 \\sim r^{c}N \\Rightarrow r \\sim N^{-1/c},\\ \\ \\ \\frac{1}{c} > 0.5  $$"
   ]
  },
  {
   "cell_type": "markdown",
   "metadata": {
    "internals": {
     "slide_helper": "subslide_end",
     "slide_type": "subslide"
    },
    "slide_helper": "subslide_end",
    "slideshow": {
     "slide_type": "subslide"
    }
   },
   "source": [
    "点$(x,y)\\in\\Omega$のまわりに$r$によって作られる領域$\\mathcal{S}$の面積  \n",
    "= $\\Omega$(面積1)から一様に1点を選ぶときそれを$\\mathcal{S}$に見出す確率$p((x,y), r)$\n",
    "\n",
    "<div align=\"center\"><img src=img/omega.jpg width=60% />\n",
    "図11. 領域$\\Omega$を分割した各領域ごとに$r$の関数として$\\mathcal{S}$を求める</div>"
   ]
  },
  {
   "cell_type": "markdown",
   "metadata": {
    "internals": {
     "slide_helper": "subslide_end",
     "slide_type": "subslide"
    },
    "slide_helper": "subslide_end",
    "slideshow": {
     "slide_type": "subslide"
    }
   },
   "source": [
    "分割した領域ごとに面積$p(r)$を求める\n",
    "\n",
    "$$p(r)_{\\Omega'} = \\pi r^{2}$$\n",
    "\n",
    "\n",
    "$$p(r, i)_{\\Omega''_{i}} = i \\sqrt{r^{2}-i^{2}} + r^{2} \\left[ \\pi -\\arccos \\frac{i}{r} \\right]$$\n",
    "\n",
    "$$\\begin{align}p(r, i, j)_{\\Omega''_{i,j}} = &\\frac{1}{2}\\left\\{ \\sqrt{r^{2}-i^{2}} + \\min \\left(j, \\sqrt{r^{2}-i^{2}}\\right) \\right\\}i \\\\\n",
    "&+ \\frac{1}{2}\\left\\{ \\sqrt{r^{2}-j^{2}} + \\min \\left( i, \\sqrt{r^{2}-j^{2}}\\right) \\right\\}j \\\\\n",
    "&+ \\frac{1}{2}r^{2} \\left\\{ 2\\pi -\\arccos \\frac{i}{r}-\\arccos \\frac{j}{r}\\right. \\\\\n",
    "&\\ \\ \\ \\ \\ \\ \\ \\ \\ \\ \\ \\ \\ \\ \\ \\ \\left. - \\min \\left( \\frac{\\pi}{2}, \\arccos \\frac{i}{r} +\\arccos \\frac{j}{r} \\right) \\right\\}\n",
    "\\end{align}$$\n",
    "\n",
    "すべての領域で積分すれば、$\\Omega$内の任意の点を選んだときの$\\mathcal{S}$の期待値(=$\\mathcal{S}$内に点を見出す確率の期待値)が得られる。"
   ]
  },
  {
   "cell_type": "markdown",
   "metadata": {
    "internals": {
     "slide_helper": "subslide_end",
     "slide_type": "subslide"
    },
    "slide_helper": "subslide_end",
    "slideshow": {
     "slide_type": "subslide"
    }
   },
   "source": [
    "<div align=\"center\"><img src=img/omega_x.jpg width=60% />\n",
    "$\\vec{x} \\in \\Omega''_{x}$であるときの面積$S$の求め方</div>"
   ]
  },
  {
   "cell_type": "markdown",
   "metadata": {
    "internals": {
     "slide_helper": "subslide_end",
     "slide_type": "subslide"
    },
    "slide_helper": "slide_end",
    "slideshow": {
     "slide_type": "subslide"
    }
   },
   "source": [
    "<div align=\"center\"><img src=img/omega_xy.jpg width=60% />\n",
    "$\\vec{x} \\in \\Omega''_{x,y}$のときの面積$S$の求め方の一例。</div>"
   ]
  },
  {
   "cell_type": "markdown",
   "metadata": {
    "internals": {
     "slide_helper": "subslide_end",
     "slide_type": "subslide"
    },
    "slide_helper": "slide_end",
    "slideshow": {
     "slide_type": "slide"
    }
   },
   "source": [
    "### 4. 近距離の点をクラスター化するモデル\n",
    "\n",
    "- ほとんどの設定は3-B(1つの点を参照にその近さで選ぶ)と同様\n",
    "- ただし、閾値$r$より近い位置にある点をすべてクラスター化\n",
    "- 同じクラスター内のどれかの点が選ばれると、そのクラスター内の点は選ばれなくなる\n",
    "\n",
    "<div align=\"center\"><img src=\"img/nearness.png\" width=50%>\n",
    "図12. クラスター同士を結ぶモデルのシミュレーション例($r=0.07$)</div>"
   ]
  },
  {
   "cell_type": "markdown",
   "metadata": {
    "internals": {
     "slide_helper": "subslide_end",
     "slide_type": "subslide"
    },
    "slide_helper": "slide_end",
    "slideshow": {
     "slide_type": "slide"
    }
   },
   "source": [
    "### クラスター化係数$r$に対するクラスターの数の推移\n",
    "\n",
    "半径$r$の中にある点同士を結ぶようにクラスターを作っていくときの点の総数に対するクラスターの数の割合\n",
    "<div align=\"center\"><img src=\"img/r_phi_1_sigmoid.png\" width=60%>\n",
    "図13. 横軸$r$、縦軸$1-(\\text{クラスターの数})/(\\text{点の総数})$</div>\n",
    "\n",
    "\n",
    "フィッティング関数:\n",
    "\n",
    "$$\\phi(r) = 1- \\exp\\left[ -\\left( \\frac{r}{\\omega}\\right)^{a}\\right]$$\n",
    "$$(\\omega\\sim 0.0715)$$"
   ]
  },
  {
   "cell_type": "markdown",
   "metadata": {
    "internals": {
     "slide_helper": "subslide_end",
     "slide_type": "subslide"
    },
    "slide_helper": "slide_end",
    "slideshow": {
     "slide_type": "slide"
    }
   },
   "source": [
    "### $X$の要素数$N$と平均ステップ間距離との関係\n",
    "\n",
    "<div align=\"center\"><img src=\"img/N_l_2.png\" width=60%>\n",
    "図14. クラスター同士を結ぶモデルにおける、  \n",
    "$X_{i}$の数$N$と平均ステップ間距離$\\phi$の関係</div>\n",
    "\n",
    "- 平均ステップ間距離$\\phi$は$N$に対して下に凸な関数系\n",
    "- $N$が小さいとき  \n",
    "$\\Rightarrow$ 点の密度小 $\\rightarrow$ 点間距離増大\n",
    "- $N$が大きいとき  \n",
    "$\\Rightarrow$ 点の密度大 $\\rightarrow$ クラスター化促進 $\\rightarrow$ クラスター間距離増大"
   ]
  },
  {
   "cell_type": "markdown",
   "metadata": {
    "internals": {
     "slide_helper": "subslide_end",
     "slide_type": "subslide"
    },
    "slide_helper": "slide_end",
    "slideshow": {
     "slide_type": "slide"
    }
   },
   "source": [
    "## ここでモデルの元となった会議に戻って解釈"
   ]
  },
  {
   "cell_type": "markdown",
   "metadata": {
    "internals": {
     "slide_helper": "subslide_end",
     "slide_type": "subslide"
    },
    "slide_helper": "slide_end",
    "slideshow": {
     "slide_type": "slide"
    }
   },
   "source": [
    "- クラスター化の意味\n",
    "    - 参加者は、自分の持つ意見と近い意見は他の人も持っているだろうと推測する(期待値によって)\n",
    "    - 人が多いほどかぶる確率も上がる(と参加者は考える)\n",
    "    \n",
    "- 平均ステップ間距離$\\phi$\n",
    "    - 領域$\\Omega$における距離 $\\rightarrow$ 意見の近さ、類似度\n",
    "    - 大きい $\\rightarrow$ つながりの少ない意見がおおい\n"
   ]
  },
  {
   "cell_type": "markdown",
   "metadata": {
    "internals": {
     "slide_helper": "subslide_end",
     "slide_type": "subslide"
    },
    "slide_helper": "slide_end",
    "slideshow": {
     "slide_type": "slide"
    }
   },
   "source": [
    "##結論\n",
    "\n",
    "- 平均ステップ間距離がシステムサイズに関してベキ的に変化する  \n",
    "$$\\phi \\sim N^{-0.52}$$  \n",
    "ようなモデルが作成できた。\n",
    "\n",
    "- 系のサイズと平均ステップ間距離の関係について、現実の会議と合わせて一定の解釈の可能な結果が得られた。"
   ]
  },
  {
   "cell_type": "markdown",
   "metadata": {
    "internals": {
     "slide_helper": "subslide_end",
     "slide_type": "subslide"
    },
    "slide_helper": "slide_end",
    "slideshow": {
     "slide_type": "slide"
    }
   },
   "source": [
    "## 問題点と今後について\n",
    "\n",
    "### 問題点\n",
    "\n",
    "- モデル先行であり、実験による裏付けができていない\n",
    "- モデルの形の必然性はない\n",
    "- 一般化するほど自明になる\n",
    "    - 相反する2つ(以上)の作用\n",
    "    \n",
    "---\n",
    "\n",
    "### 個人的な今後の研究について\n",
    "\n",
    "- (問題点を解決していく方向で)発展させていく?\n",
    "- 新しいテーマを考える?\n",
    "    - 壁面に付着する水滴の供給量とパターン、ダイナミクス"
   ]
  },
  {
   "cell_type": "markdown",
   "metadata": {
    "internals": {
     "slide_helper": "subslide_end",
     "slide_type": "subslide"
    },
    "slide_helper": "subslide_end",
    "slideshow": {
     "slide_type": "slide"
    }
   },
   "source": [
    "##参考文献\n",
    "\n",
    "- Geoffrey West, James Brown, Brian Enquist,\n",
    "  <a href=\"http://www.sciencemag.org/content/276/5309/122.abstract\">A General Model for the Origin of Allometric Scaling Laws in Biology</a>,\n",
    "  *Science*, Val.276, No.5309, pp.122-126, 1997.\n",
    "\n",
    "- C. R. White, P. Cassey, T. M. Blackburn,\n",
    "Allometric exponents do not support a universal metabolic allometry,\n",
    "*Ecology*, **88**(2), 315-323 (2007).\n",
    "\n",
    "- T. Kolokotrones, V. Savage, E. J. Deeds, W. Fontana,\n",
    "Curvature in metabolic scaling,\n",
    "*Nature L*, 464, 753-756 (2010)\n",
    "\n",
    "- J. Kozlowski, J. Weiner,\n",
    "Interspecific allometries are by-products of body size optimization,\n",
    "*The American Naturalist*, **149**(2) (1997).\n",
    "\n",
    "- G. B. West, J. H. Brown,\n",
    "Life's universal scaling laws,\n",
    "*Physics Today*, **57**, 36-49 (2004).\n",
    "\n",
    "- H. A. Feldman, T. A. Mcmahon,\n",
    "The ¾ mass exponent for energy metabolism is not a statistical artifact,\n",
    "*Respiration Physiology*, **52**, 149-163, (1983).\n"
   ]
  },
  {
   "cell_type": "markdown",
   "metadata": {
    "internals": {
     "slide_helper": "subslide_end",
     "slide_type": "subslide"
    },
    "slide_helper": "subslide_end",
    "slideshow": {
     "slide_type": "subslide"
    }
   },
   "source": [
    "- G. B. West, J. H. Brown,\n",
    "The origin of allometric scaling laws in biology from genomes to ecosystems towards a quantitative unifying theory of biological structure and organization,\n",
    "*The Journal of Experimental Biology*, **208**, 1575-1592 (2005).\n",
    "\n",
    "- V. M. Savage, J. F. Gilloly, W. H. Woodruff, G. B. West, A. P. Allen, B. J. Enquist, J. H. Erown,\n",
    "The predominance of quoter-power scaling in biology,\n",
    "*Functional Ecology*, **18**, 257-282 (2004).\n",
    "\n",
    "- 本川 達雄,\n",
    "  「ホヤ―群体形成と自己組織化」,\n",
    "  『自己組織化ハンドブック』, 330 - 331, 2009.\n",
    "\n",
    "- 石川 正純・足立 にれか・岡本 浩一,\n",
    "会議分析のための数値シミュレーション技法-組織内集団に見られる意思決定モデルの開発-,\n",
    "社会技術研究論文集, 2004.\n",
    "\n",
    "- 城 綾実・細馬 宏通,\n",
    "多人数会話における自発的ジェスチャーの同期,\n",
    "*Congnitive Studies*, **16**(1), 103-119, 2009."
   ]
  },
  {
   "cell_type": "markdown",
   "metadata": {
    "internals": {
     "slide_helper": "subslide_end",
     "slide_type": "subslide"
    },
    "slide_helper": "slide_end",
    "slideshow": {
     "slide_type": "subslide"
    }
   },
   "source": [
    "- 藤本 学・大坊 郁夫,\n",
    "小集団の会話の展開に及ぼす会話者の発話行動傾向の影響,\n",
    "*The Japanese Journal of Experimental Social Psychology*, **47**(1), 51-60, 2007.\n",
    "\n",
    "- 高良 美樹,\n",
    "集団討議の参加者の人数が集団決定および個人決定に及ぼす影響について,\n",
    "*人間科学*, **1**, 67-84, 1998.\n",
    "\n",
    "- 山本浩・森隆一・藤曲哲郎,\n",
    "シミュレーションによる確率論,\n",
    "日本評論社, 137-143, 1993."
   ]
  },
  {
   "cell_type": "markdown",
   "metadata": {
    "internals": {
     "slide_type": "subslide"
    },
    "slideshow": {
     "slide_type": "slide"
    }
   },
   "source": [
    "### 選択確率$p$に対する各ステップ間角度の平均値$\\theta$(°)\n",
    "\n",
    "<div align=\"center\">\n",
    "<img src=img/simple3_p.png width=60% />\n",
    "選択確率$p$に対する各ステップ間角度の平均値$\\theta$(°)</div>\n"
   ]
  },
  {
   "cell_type": "markdown",
   "metadata": {
    "internals": {
     "slide_helper": "subslide_end"
    },
    "slide_helper": "slide_end",
    "slideshow": {
     "slide_type": "-"
    }
   },
   "source": [
    "<div align=\"center\">\n",
    "<img src=img/simple3_p_2.png width=60% />\n",
    "選択確率$p$に対する各ステップ間角度の平均値$\\theta$(°)(偏差付き)</div>\n",
    "\n",
    "- $p\\rightarrow$ 大  \n",
    "$\\Rightarrow$ ステップ間角度の平均値は小さくなる  \n",
    "偏差はcaseに依らず50°程度\n",
    "- case5は、戻りの効果によって角度は大きくなる"
   ]
  },
  {
   "cell_type": "markdown",
   "metadata": {
    "internals": {
     "slide_helper": "subslide_end",
     "slide_type": "subslide"
    },
    "slide_helper": "slide_end",
    "slideshow": {
     "slide_type": "slide"
    }
   },
   "source": [
    "<div align=\"center\"><img src=img/idea_vec.jpg width=60% />\n",
    "ステップ間角度$\\theta$のイメージ図\n",
    "</div>"
   ]
  },
  {
   "cell_type": "markdown",
   "metadata": {
    "collapsed": false
   },
   "source": [
    "# 発表を終えて\n",
    "\n",
    "- 単に数理モデルとして捉えて調べてみれば、面白いことは見つかるかもしれない。\n",
    "- 続けるなら、人間の理解についての研究をもとにする必要がありそう\n",
    "    - 意見間の飛躍が理解の妨げとなる(ネットワーク間の2点間の最短距離)"
   ]
  }
 ],
 "metadata": {
  "kernelspec": {
   "display_name": "Python 2",
   "language": "python",
   "name": "python2"
  },
  "language_info": {
   "codemirror_mode": {
    "name": "ipython",
    "version": 2
   },
   "file_extension": ".py",
   "mimetype": "text/x-python",
   "name": "python",
   "nbconvert_exporter": "python",
   "pygments_lexer": "ipython2",
   "version": "2.7.6"
  }
 },
 "nbformat": 4,
 "nbformat_minor": 0
}
